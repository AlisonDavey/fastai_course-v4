{
 "cells": [
  {
   "cell_type": "code",
   "execution_count": 1,
   "metadata": {},
   "outputs": [],
   "source": [
    "from fastai2.vision.all import *\n",
    "from fastai2.vision.widgets import *\n",
    "\n",
    "import plotly.express as px\n",
    "from ipywidgets import interactive\n",
    "\n",
    "#%load_ext watermark\n",
    "#!jupyter serverextension enable voila --sys-prefix\n",
    "#%watermark --iversions --python"
   ]
  },
  {
   "cell_type": "code",
   "execution_count": 2,
   "metadata": {},
   "outputs": [
    {
     "name": "stdout",
     "output_type": "stream",
     "text": [
      "Whilst you are waiting imapatiently to be allowed out, why not check the brand of your running shoes as a distraction from th Covid-19 figures. When Spain's curve flattens enough you can put your shoes on again and go for a run!\n",
      "\n",
      "Upload a photo of your shoes and check whether they are by Adidas, Nike or Asics.\n"
     ]
    }
   ],
   "source": [
    "print ('Whilst you are waiting impatiently to be allowed out, why not check the brand of your running shoes as a distraction from the Covid-19 figures. When Spain\\'s curve flattens enough you can put your shoes on again and go for a run!')\n",
    "print ('\\nUpload a photo of your shoes and check whether they are by Adidas, Nike or Asics.')"
   ]
  },
  {
   "cell_type": "code",
   "execution_count": 3,
   "metadata": {},
   "outputs": [],
   "source": [
    "path = Path()\n",
    "learn_inf = load_learner(path/'export.pkl', cpu=True)\n",
    "btn_upload = widgets.FileUpload()\n",
    "btn_run = widgets.Button(description='Classify')\n",
    "out_pl = widgets.Output()\n",
    "lbl_pred = widgets.Label()"
   ]
  },
  {
   "cell_type": "code",
   "execution_count": 4,
   "metadata": {},
   "outputs": [],
   "source": [
    "def on_click_classify(change):\n",
    "    img = PILImage.create(btn_upload.data[-1])\n",
    "    out_pl.clear_output()\n",
    "    with out_pl: display(img.to_thumb(128,128))\n",
    "    pred,pred_idx,probs = learn_inf.predict(img)\n",
    "    lbl_pred.value = f'Predicted brand: {pred}, with probability: {probs[pred_idx]:.04f}'"
   ]
  },
  {
   "cell_type": "code",
   "execution_count": 5,
   "metadata": {},
   "outputs": [],
   "source": [
    "btn_run.on_click(on_click_classify)\n",
    "#btn_upload.observe(on_click_classify, names=['data'])"
   ]
  },
  {
   "cell_type": "code",
   "execution_count": 11,
   "metadata": {},
   "outputs": [
    {
     "data": {
      "application/vnd.jupyter.widget-view+json": {
       "model_id": "0958eab0a2504588beb9cef494f86955",
       "version_major": 2,
       "version_minor": 0
      },
      "text/plain": [
       "VBox(children=(Label(value='find a picture of your running shoe:'), FileUpload(value={'An_Adidas_shoe.jpg': {'…"
      ]
     },
     "metadata": {},
     "output_type": "display_data"
    }
   ],
   "source": [
    "VBox([widgets.Label('Find a picture of your running shoe:'), \n",
    "      btn_upload, btn_run, out_pl, lbl_pred])"
   ]
  },
  {
   "cell_type": "code",
   "execution_count": 12,
   "metadata": {},
   "outputs": [
    {
     "name": "stdout",
     "output_type": "stream",
     "text": [
      "Then check the latest plot to see when we may be allowed out. One day more...\n"
     ]
    }
   ],
   "source": [
    "print ('Then check out the latest plot to see when we may be allowed out. One day more...')"
   ]
  },
  {
   "cell_type": "code",
   "execution_count": 8,
   "metadata": {},
   "outputs": [],
   "source": [
    "df = pd.read_csv('https://covid.ourworldindata.org/data/ecdc/full_data.csv', index_col='date', parse_dates=True)\n",
    "data = df[df.location.isin(['Spain','United States'])]\n",
    "data=data[data.index>'2020-02-29']"
   ]
  },
  {
   "cell_type": "code",
   "execution_count": 9,
   "metadata": {},
   "outputs": [],
   "source": [
    "#https://voila-gallery.org/\n",
    "#https://github.com/mkcor/covid-plots/blob/master/covid_it_fr_lag.ipynb"
   ]
  },
  {
   "cell_type": "code",
   "execution_count": 10,
   "metadata": {},
   "outputs": [
    {
     "data": {
      "application/vnd.jupyter.widget-view+json": {
       "model_id": "2b53c38e36ea473493b7a84d45f85341",
       "version_major": 2,
       "version_minor": 0
      },
      "text/plain": [
       "interactive(children=(Dropdown(description='variable', options=('new_cases', 'new_deaths', 'total_cases', 'tot…"
      ]
     },
     "metadata": {},
     "output_type": "display_data"
    }
   ],
   "source": [
    "def plot_compare_lag(variable, lag, window):\n",
    "    wide_data = data.pivot(columns='location', values=variable)\n",
    "    wide_data['USA lag'] = wide_data['United States'].shift(-lag)\n",
    "    wide_data = wide_data[['USA lag', 'Spain']].rolling(window=window).mean()\n",
    "    wide_data.reset_index(level=0, inplace=True)\n",
    "    fig = px.line(wide_data.melt(id_vars='date'), x='date', y='value', color='location')\n",
    "    fig.update_layout(\n",
    "    title='Covid-19 Comparative: Lag of '+str(lag)+' days, '+str(window)+'-day rolling average',\n",
    "    xaxis_title=\"Spain date\",\n",
    "    yaxis_title=\"Log scale\",\n",
    "    yaxis_type=\"log\")\n",
    "    fig.show()\n",
    "\n",
    "interactive(plot_compare_lag, variable=list(data.columns[1:]), lag=(0, 8), window=(1,6))"
   ]
  },
  {
   "cell_type": "code",
   "execution_count": null,
   "metadata": {},
   "outputs": [],
   "source": []
  }
 ],
 "metadata": {
  "kernelspec": {
   "display_name": "Python 3",
   "language": "python",
   "name": "python3"
  },
  "language_info": {
   "codemirror_mode": {
    "name": "ipython",
    "version": 3
   },
   "file_extension": ".py",
   "mimetype": "text/x-python",
   "name": "python",
   "nbconvert_exporter": "python",
   "pygments_lexer": "ipython3",
   "version": "3.7.7"
  }
 },
 "nbformat": 4,
 "nbformat_minor": 4
}
